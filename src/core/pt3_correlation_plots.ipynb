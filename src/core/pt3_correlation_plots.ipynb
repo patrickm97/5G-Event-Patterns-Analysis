{
 "cells": [
  {
   "cell_type": "code",
   "execution_count": null,
   "metadata": {},
   "outputs": [],
   "source": [
    "import pandas as pd\n",
    "import matplotlib.pyplot as plt\n",
    "import seaborn as sns\n",
    "import os\n",
    "from datetime import timedelta\n",
    "from scipy.stats import spearmanr, kendalltau, pearsonr"
   ]
  },
  {
   "cell_type": "markdown",
   "metadata": {},
   "source": [
    "### Correlation scatter plots"
   ]
  },
  {
   "cell_type": "code",
   "execution_count": null,
   "metadata": {},
   "outputs": [],
   "source": [
    "# read pivot CSV rounded in hours (so that there is not too much info in the x axis of the plots)\n",
    "path = '../output/temporal_UCs_pivot_hr.csv'\n",
    "file_name = os.path.basename(path)\n",
    "\n",
    "print(f'Reading file {file_name}...')\n",
    "data = pd.read_csv(path, delimiter=',')\n",
    "\n",
    "# keep only the UCs colorelation >= 0.7 (accolording to Spearman heatmap)\n",
    "data = data[['datetime_id','l001_bb','l017_bb','l017_du','l020','l029_bb','l029_du','l080','l081','l083']]\n",
    "\n",
    "n_rows, n_cols = data.shape\n",
    "print(f'File reading \"{file_name}\" finished, {n_rows} rows and {n_cols} columns')\n"
   ]
  },
  {
   "cell_type": "code",
   "execution_count": null,
   "metadata": {},
   "outputs": [],
   "source": [
    "data.info()"
   ]
  },
  {
   "cell_type": "code",
   "execution_count": null,
   "metadata": {},
   "outputs": [],
   "source": [
    "data.head(3)"
   ]
  },
  {
   "cell_type": "code",
   "execution_count": null,
   "metadata": {},
   "outputs": [],
   "source": [
    "# discover the days which certain UCs ocurred the most\n",
    "uc_search = 'l083'\n",
    "map_ocurrences_per_day = {}\n",
    "for idx, row in data.iterrows():\n",
    "    if row[uc_search] > 0:\n",
    "        # extract the day (ignoring the hour part of the datetime) and format string as '%Y-%m-%d'\n",
    "        day = pd.to_datetime(row['datetime_id']).strftime('%Y-%m-%d')\n",
    "    \n",
    "        # check if the day is already in the dictionary, if not, create an empty list for it\n",
    "        if day not in map_ocurrences_per_day:\n",
    "            map_ocurrences_per_day[day] = 0\n",
    "        \n",
    "        # add ocurrence to the coloresponding day in the dictionary\n",
    "        map_ocurrences_per_day[day] += row[uc_search]\n",
    "\n",
    "for key, value in map_ocurrences_per_day.items():\n",
    "    print(f'{key}: {value}')\n",
    "\n",
    "# chosen day = item with most ocolorences of the UC searched\n",
    "day = max(map_ocurrences_per_day, key=map_ocurrences_per_day.get)\n",
    "print(f'\\nDatetime with most ocurrences of UC {uc_search}: {day}')"
   ]
  },
  {
   "cell_type": "code",
   "execution_count": null,
   "metadata": {},
   "outputs": [],
   "source": [
    "# define day range for the plot\n",
    "data['datetime_id'] = pd.to_datetime(data['datetime_id'])\n",
    "data['datetime_id'] = data['datetime_id'].dt.strftime('%Y-%m-%d %H')\n",
    "\n",
    "# uncomment to hard-code day range (if previous cell was not executed)\n",
    "# day = '2023-03-03'\n",
    "\n",
    "day = pd.Timestamp(day)\n",
    "\n",
    "day_plus_1 = day + timedelta(days=1)\n",
    "day_plus_1 = day_plus_1.strftime('%Y-%m-%d')\n",
    "\n",
    "# convert day to timestamp string\n",
    "day = day.strftime('%Y-%m-%d')\n",
    "\n",
    "print(f'day: {day} | day+1: {day_plus_1}\\n')\n",
    "\n",
    "# filter DataFrame with rows in day interval\n",
    "data = data.query(f\"'{day}' <= datetime_id < '{day_plus_1}'\")\n",
    "\n",
    "print('len columns: ', end='')\n",
    "for col in data.columns:\n",
    "    print(len(data[col]), end=' ')\n",
    "print('')\n",
    "\n",
    "# print days\n",
    "data['datetime_id'].values"
   ]
  },
  {
   "cell_type": "code",
   "execution_count": null,
   "metadata": {},
   "outputs": [],
   "source": [
    "# colors for each UC in scatter plot\n",
    "colores = sns.color_palette(\"hsv\", len(data.columns[1:]))\n",
    "print(f'len colors: {len(colores)}')\n",
    "\n",
    "# list of UCs colorespondent to colors\n",
    "columns = data.columns[1:]\n",
    "columns = columns.to_list()\n",
    "print(f'len columns: {len(columns)}\\n')\n",
    "\n",
    "# dictionary with the columns of each UC\n",
    "map_colors = {column: color for column, color in zip(columns, colores)}\n",
    "\n",
    "# print UCs and colors\n",
    "for key, value in map_colors.items():\n",
    "    print(f'{key}: {value}')"
   ]
  },
  {
   "cell_type": "code",
   "execution_count": null,
   "metadata": {},
   "outputs": [],
   "source": [
    "# scatter plot\n",
    "plt.figure(figsize=(12, 6))\n",
    "\n",
    "# extract colors corredpondent to each UC\n",
    "colors = [map_colors[col] for col in data.columns[1:]]\n",
    "\n",
    "for i, col in enumerate(data.columns[1:]):\n",
    "    plt.scatter(data['datetime_id'], data[col], color=colors[i], label=col, alpha=0.7)\n",
    "\n",
    "# highlighted UCs\n",
    "uc1 = 'l001_bb'\n",
    "uc2 = 'l020'\n",
    "values_uc1 = data[uc1]\n",
    "values_uc2 = data[uc2]\n",
    "\n",
    "# Spearman correlation between highlighted UCs\n",
    "corr_spearman = spearmanr(data[uc1], data[uc2])\n",
    "corr_spearman_p = corr_spearman[0] * 100\n",
    "corr_spearman_p = round(corr_spearman_p, 2)\n",
    "print(corr_spearman_p)\n",
    "\n",
    "# Kendall correlation between highlighted UCs\n",
    "corr_kendall = kendalltau(data[uc1], data[uc2])\n",
    "corr_kendall_p = corr_kendall[0] * 100\n",
    "corr_kendall_p = round(corr_kendall_p, 2)\n",
    "print(corr_kendall_p)\n",
    "\n",
    "# Pearson correlation between highlighted UCs\n",
    "corr_pearson = pearsonr(data[uc1], data[uc2])\n",
    "corr_pearson_p = corr_pearson[0] * 100\n",
    "corr_pearson_p = round(corr_pearson_p, 2)\n",
    "print(corr_pearson_p)\n",
    "\n",
    "# define which correlation will be displayed in the plot\n",
    "max_corr = max(corr_spearman_p, corr_kendall_p, corr_pearson_p)\n",
    "corr_method = ''\n",
    "corr_percent = 0\n",
    "if max_corr == corr_spearman_p:\n",
    "    corr_method = 'Spearman'\n",
    "    corr_percent = corr_spearman_p\n",
    "elif max_corr == corr_kendall_p:\n",
    "    corr_method = 'Kendall'\n",
    "    corr_percent = corr_kendall_p\n",
    "elif max_corr == corr_pearson_p:\n",
    "    corr_method = 'Pearson'\n",
    "    corr_percent = corr_pearson_p\n",
    "\n",
    "plt.plot(data['datetime_id'], values_uc1, color=map_colors[uc1], label=uc1, linewidth=2)\n",
    "plt.plot(data['datetime_id'], values_uc2, color=map_colors[uc2], label=uc2, linewidth=2)\n",
    "\n",
    "plt.title(rf'Use Cases on day {day}: correlation ({corr_method}) of {corr_percent}% between {uc1} and {uc2}')\n",
    "##################################################################################\n",
    "\n",
    "plt.xlabel('Datetime')\n",
    "plt.ylabel('UCs Ocurrences')\n",
    "\n",
    "# create legend using the mapping between UCs names and colors\n",
    "legend_labels = [plt.Line2D([0], [0], marker='o', color='w', label=f' {key}', markersize=10, markerfacecolor=val) for key, val in map_colors.items()]\n",
    "plt.legend(handles=legend_labels, loc='upper left', bbox_to_anchor=(1, 1))\n",
    "\n",
    "# rotate x axis labels\n",
    "plt.xticks(rotation=60)\n",
    "plt.show()"
   ]
  }
 ],
 "metadata": {
  "kernelspec": {
   "display_name": "Python 3",
   "language": "python",
   "name": "python3"
  },
  "language_info": {
   "codemirror_mode": {
    "name": "ipython",
    "version": 3
   },
   "file_extension": ".py",
   "mimetype": "text/x-python",
   "name": "python",
   "nbconvert_exporter": "python",
   "pygments_lexer": "ipython3",
   "version": "3.10.11"
  }
 },
 "nbformat": 4,
 "nbformat_minor": 2
}
